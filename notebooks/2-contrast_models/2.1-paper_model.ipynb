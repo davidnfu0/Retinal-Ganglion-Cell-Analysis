{
 "cells": [
  {
   "cell_type": "markdown",
   "metadata": {},
   "source": [
    "# Model paper: Ganglion Cells in the Retina\n",
    "- **Author**: Javier Cruz\n",
    "- **Contact**: https://github.com/sisyphvs\n",
    "- **Last Modification**: January 25, 2024\n",
    "- **Description**:"
   ]
  },
  {
   "cell_type": "markdown",
   "metadata": {},
   "source": [
    "## Introduction"
   ]
  },
  {
   "cell_type": "markdown",
   "metadata": {},
   "source": [
    "### Importing Libraries"
   ]
  },
  {
   "cell_type": "code",
   "execution_count": null,
   "metadata": {},
   "outputs": [],
   "source": [
    "import sys\n",
    "import numpy as np\n",
    "import matplotlib.pyplot as plt\n",
    "import pickle\n",
    "import lmfit\n",
    "from pyret import filtertools\n",
    "from matplotlib.patches import Ellipse"
   ]
  },
  {
   "cell_type": "code",
   "execution_count": null,
   "metadata": {},
   "outputs": [],
   "source": [
    "sys.path.append(\"../..\")"
   ]
  },
  {
   "cell_type": "code",
   "execution_count": null,
   "metadata": {},
   "outputs": [],
   "source": [
    "from scripts import load_yaml_config, truncate_float, plot_hist, plot_hist2d"
   ]
  },
  {
   "cell_type": "markdown",
   "metadata": {},
   "source": [
    "### Paths and configuration"
   ]
  },
  {
   "cell_type": "code",
   "execution_count": null,
   "metadata": {},
   "outputs": [],
   "source": [
    "plt.style.use(\"seaborn-v0_8-darkgrid\")"
   ]
  },
  {
   "cell_type": "code",
   "execution_count": null,
   "metadata": {},
   "outputs": [],
   "source": [
    "configPath = \"../../config/\"\n",
    "config = load_yaml_config(configPath + \"general_config.yml\")\n",
    "\n",
    "DATA_RFS_PATH = \"../..\" + config[\"paths\"][\"data_cache\"][\"DATA_RFS\"]\n",
    "S_DATA_STA_PATH = \"../..\" + config[\"paths\"][\"data_cache\"][\"S_DATA_STA\"]\n",
    "T_DATA_STA_PATH = \"../..\" + config[\"paths\"][\"data_cache\"][\"T_DATA_STA\"]"
   ]
  },
  {
   "cell_type": "markdown",
   "metadata": {},
   "source": [
    "### Loading data"
   ]
  },
  {
   "cell_type": "code",
   "execution_count": null,
   "metadata": {},
   "outputs": [],
   "source": [
    "with open(DATA_RFS_PATH, \"rb\") as file:\n",
    "    DATA = pickle.load(file)\n",
    "with open(S_DATA_STA_PATH, \"rb\") as file:\n",
    "    S_DATA = pickle.load(file)\n",
    "with open(T_DATA_STA_PATH, \"rb\") as file:\n",
    "    T_DATA = pickle.load(file)"
   ]
  },
  {
   "cell_type": "markdown",
   "metadata": {},
   "source": [
    "### Constants"
   ]
  },
  {
   "cell_type": "code",
   "execution_count": null,
   "metadata": {},
   "outputs": [],
   "source": [
    "FPS = config[\"params\"][\"FPS\"]\n",
    "FRAME_TIME = 1 / FPS\n",
    "TIME = T_DATA[\"time\"]\n",
    "TIME_CONT = np.linspace(0, 26, 260) * FRAME_TIME\n",
    "FRAMES = len(T_DATA[\"contrast\"][\"temp_100\"])"
   ]
  },
  {
   "cell_type": "markdown",
   "metadata": {},
   "source": [
    "## Peaks"
   ]
  },
  {
   "cell_type": "code",
   "execution_count": null,
   "metadata": {},
   "outputs": [],
   "source": [
    "# find data peaks:\n",
    "def find_peaks(t, std_mult=1.75):\n",
    "    peaks = {}\n",
    "    std = np.std(t)\n",
    "    max = np.max(t)\n",
    "    min = np.min(t)\n",
    "\n",
    "    if max > std_mult * std:\n",
    "        position = np.where(t == max)[0][0]\n",
    "        peaks[\"max\"] = (position, position * FRAME_TIME)\n",
    "    else:\n",
    "        peaks[\"max\"] = None\n",
    "\n",
    "    if min < -std_mult * std:\n",
    "        position = np.where(t == min)[0][0]\n",
    "        peaks[\"min\"] = (position, position * FRAME_TIME)\n",
    "    else:\n",
    "        peaks[\"min\"] = None\n",
    "\n",
    "    return peaks"
   ]
  },
  {
   "cell_type": "code",
   "execution_count": null,
   "metadata": {},
   "outputs": [],
   "source": [
    "PEAKS_DATA = {}\n",
    "\n",
    "for c in DATA:\n",
    "    PEAKS_DATA[c] = find_peaks(T_DATA[\"contrast\"][c][::-1])"
   ]
  },
  {
   "cell_type": "markdown",
   "metadata": {},
   "source": [
    "## Function Fitting"
   ]
  },
  {
   "cell_type": "code",
   "execution_count": null,
   "metadata": {},
   "outputs": [],
   "source": [
    "STA_LEN = 26"
   ]
  },
  {
   "cell_type": "code",
   "execution_count": null,
   "metadata": {},
   "outputs": [],
   "source": [
    "FUNC_RESIDUALS = {}\n",
    "\n",
    "for c in DATA:\n",
    "    FUNC_RESIDUALS[c] = None"
   ]
  },
  {
   "cell_type": "code",
   "execution_count": null,
   "metadata": {},
   "outputs": [],
   "source": [
    "def fit_temp(cell, values=[9e8, 4e10], report=False):\n",
    "    # get data\n",
    "    dataAmp = T_DATA[\"contrast\"][cell].squeeze()\n",
    "\n",
    "    try:\n",
    "        dataAmp = dataAmp[::-1]\n",
    "    except:\n",
    "        return 0\n",
    "\n",
    "    tau1 = dataAmp.argmin()\n",
    "    tau2 = dataAmp.argmax()\n",
    "\n",
    "    if tau2 > 15:\n",
    "        tau1 = tau1 + 2\n",
    "        tau2 = tau1 + 0.01\n",
    "\n",
    "    if np.abs(dataAmp[int(tau1)]) - np.abs(dataAmp[int(tau2)]) < 0:\n",
    "        tau1 = dataAmp.argmax() + 1\n",
    "        tau2 = dataAmp.argmin() + 1\n",
    "\n",
    "    tau1 = tau1 + 1\n",
    "    tau2 = tau2 + 1\n",
    "\n",
    "    x = np.linspace(0, STA_LEN - 1, STA_LEN)\n",
    "    x_fit = np.linspace(0, STA_LEN - 1, STA_LEN * 10)\n",
    "\n",
    "    # model function\n",
    "    def fmodel(params, x):\n",
    "        amp1 = params[\"amp1\"]\n",
    "        amp2 = params[\"amp2\"]\n",
    "        T1 = params[\"tau1\"]\n",
    "        T2 = params[\"tau2\"]\n",
    "        n = params[\"n\"]\n",
    "        model = amp1 * ((x / T1) ** n) * np.exp(-1 * n * ((x / T1) - 1)) + amp2 * (\n",
    "            (x / T2) ** n\n",
    "        ) * np.exp(-1 * n * ((x / T2) - 1))\n",
    "        return model\n",
    "\n",
    "    # function to be minimized\n",
    "    def fcn2min(params, x, data):\n",
    "        model = fmodel(params, x)\n",
    "        return model - data\n",
    "\n",
    "    # set initial parameters\n",
    "    params = lmfit.Parameters()\n",
    "    params.add(\"amp1\", value=values[0], max=np.inf)\n",
    "    params.add(\"amp2\", value=values[1], max=np.inf)\n",
    "    params.add(\"tau1\", value=tau1, min=1, max=20)\n",
    "    params.add(\"tau2\", value=tau2, min=1, max=20)\n",
    "    params.add(\"n\", value=3, max=30)\n",
    "\n",
    "    # do fit, here with leastsq model\n",
    "    minner = lmfit.Minimizer(fcn2min, params, fcn_args=(x, dataAmp))\n",
    "    result = minner.minimize()\n",
    "\n",
    "    # save chi-sqr data\n",
    "    FUNC_RESIDUALS[cell] = result.chisqr\n",
    "\n",
    "    # write error report\n",
    "    if report:\n",
    "        lmfit.report_fit(result)\n",
    "\n",
    "    return result, x_fit, fmodel(result.params, x_fit)"
   ]
  },
  {
   "cell_type": "code",
   "execution_count": null,
   "metadata": {},
   "outputs": [],
   "source": [
    "FIT_FUNC = {}\n",
    "for c in DATA:\n",
    "    FIT_FUNC[c] = None"
   ]
  },
  {
   "cell_type": "markdown",
   "metadata": {},
   "source": [
    "### Attempt 1"
   ]
  },
  {
   "cell_type": "code",
   "execution_count": null,
   "metadata": {},
   "outputs": [],
   "source": [
    "thrsh = 0.4  # arbitrary parameter\n",
    "\n",
    "# temp with problems\n",
    "PROBLEMS = []\n",
    "\n",
    "for c in DATA:\n",
    "    try:\n",
    "        result, x_fit, t1 = fit_temp(c, [9e7, 4e9])\n",
    "        if result.chisqr >= thrsh:  # probably not a good fitting\n",
    "            PROBLEMS.append(c)\n",
    "            continue\n",
    "        FIT_FUNC[c] = result, x_fit, t1\n",
    "    except:\n",
    "        PROBLEMS.append(c)  # not fitted func\n",
    "        continue"
   ]
  },
  {
   "cell_type": "code",
   "execution_count": null,
   "metadata": {},
   "outputs": [],
   "source": [
    "print(len(PROBLEMS))"
   ]
  },
  {
   "cell_type": "markdown",
   "metadata": {},
   "source": [
    "### Attempt 2"
   ]
  },
  {
   "cell_type": "code",
   "execution_count": null,
   "metadata": {},
   "outputs": [],
   "source": [
    "# temp with problems\n",
    "PROBLEMS2 = []\n",
    "\n",
    "for c in PROBLEMS:\n",
    "    try:\n",
    "        result, x_fit, t1 = fit_temp(c)\n",
    "        if result.chisqr >= thrsh:  # probably not a good fitting\n",
    "            PROBLEMS2.append(c)\n",
    "            continue\n",
    "        FIT_FUNC[c] = result, x_fit, t1\n",
    "    except:\n",
    "        PROBLEMS2.append(c)  # not fitted func\n",
    "        continue"
   ]
  },
  {
   "cell_type": "code",
   "execution_count": null,
   "metadata": {},
   "outputs": [],
   "source": [
    "print(len(PROBLEMS2))"
   ]
  },
  {
   "cell_type": "markdown",
   "metadata": {},
   "source": [
    "### Attempt 3"
   ]
  },
  {
   "cell_type": "code",
   "execution_count": null,
   "metadata": {},
   "outputs": [],
   "source": [
    "# temp with problems\n",
    "PROBLEMS3 = []\n",
    "\n",
    "for c in PROBLEMS2:\n",
    "    try:\n",
    "        result, x_fit, t1 = fit_temp(c, [9e5, 4e7])\n",
    "        if result.chisqr >= thrsh:  # probably not a good fitting\n",
    "            PROBLEMS3.append(c)\n",
    "            continue\n",
    "        FIT_FUNC[c] = result, x_fit, t1\n",
    "    except:\n",
    "        PROBLEMS3.append(c)  # not fitted func\n",
    "        continue"
   ]
  },
  {
   "cell_type": "code",
   "execution_count": null,
   "metadata": {},
   "outputs": [],
   "source": [
    "print(len(PROBLEMS3))"
   ]
  },
  {
   "cell_type": "markdown",
   "metadata": {},
   "source": [
    "### Attempt 4"
   ]
  },
  {
   "cell_type": "code",
   "execution_count": null,
   "metadata": {},
   "outputs": [],
   "source": [
    "# temp with problems\n",
    "PROBLEMS4 = []\n",
    "\n",
    "for c in PROBLEMS3:\n",
    "    try:\n",
    "        result, x_fit, t1 = fit_temp(c, [9e3, 4e5])\n",
    "        if result.chisqr >= thrsh:  # probably not a good fitting\n",
    "            PROBLEMS4.append(c)\n",
    "            continue\n",
    "        FIT_FUNC[c] = result, x_fit, t1\n",
    "    except:\n",
    "        PROBLEMS4.append(c)  # not fitted func\n",
    "        continue"
   ]
  },
  {
   "cell_type": "code",
   "execution_count": null,
   "metadata": {},
   "outputs": [],
   "source": [
    "print(len(PROBLEMS4))"
   ]
  },
  {
   "cell_type": "markdown",
   "metadata": {},
   "source": [
    "### Attempt 5"
   ]
  },
  {
   "cell_type": "code",
   "execution_count": null,
   "metadata": {},
   "outputs": [],
   "source": [
    "# temp with problems\n",
    "PROBLEMS5 = []\n",
    "\n",
    "for c in PROBLEMS4:\n",
    "    try:\n",
    "        result, x_fit, t1 = fit_temp(c, [9e9, 4e10])\n",
    "        if result.chisqr >= thrsh:  # probably not a good fitting\n",
    "            PROBLEMS5.append(c)\n",
    "            continue\n",
    "        FIT_FUNC[c] = result, x_fit, t1\n",
    "    except:\n",
    "        PROBLEMS5.append(c)  # not fitted func\n",
    "        continue"
   ]
  },
  {
   "cell_type": "code",
   "execution_count": null,
   "metadata": {},
   "outputs": [],
   "source": [
    "print(len(PROBLEMS4))"
   ]
  },
  {
   "cell_type": "markdown",
   "metadata": {},
   "source": [
    "## Function Data"
   ]
  },
  {
   "cell_type": "markdown",
   "metadata": {},
   "source": [
    "### Function values"
   ]
  },
  {
   "cell_type": "code",
   "execution_count": null,
   "metadata": {},
   "outputs": [],
   "source": [
    "FUNC_VALUES = {}\n",
    "\n",
    "for c in DATA:\n",
    "    if FIT_FUNC[c] is not None:\n",
    "        result, x_fit, t1 = FIT_FUNC[c]\n",
    "        FUNC_VALUES[c] = t1\n",
    "    else:\n",
    "        FUNC_VALUES[c] = None"
   ]
  },
  {
   "cell_type": "markdown",
   "metadata": {},
   "source": [
    "### Function Peaks"
   ]
  },
  {
   "cell_type": "code",
   "execution_count": null,
   "metadata": {},
   "outputs": [],
   "source": [
    "FUNC_PEAKS = {}\n",
    "for c in DATA:\n",
    "    FUNC_PEAKS[c] = {\"max\": None, \"min\": None}"
   ]
  },
  {
   "cell_type": "code",
   "execution_count": null,
   "metadata": {},
   "outputs": [],
   "source": [
    "def find_peaks_func(c):\n",
    "    if FIT_FUNC[c] is not None:\n",
    "        result, x_fit, t1 = FIT_FUNC[c]\n",
    "        peaks = PEAKS_DATA[c]\n",
    "\n",
    "        if peaks[\"min\"] is not None:\n",
    "            func_min = np.min(t1)\n",
    "            position = np.argmin(t1)\n",
    "            func_argmin = TIME_CONT[position]\n",
    "            FUNC_PEAKS[c][\"min\"] = (func_argmin, func_min, position)\n",
    "\n",
    "        if peaks[\"max\"] is not None:\n",
    "            func_max = np.max(t1)\n",
    "            position = np.argmax(t1)\n",
    "            func_argmax = TIME_CONT[position]\n",
    "            FUNC_PEAKS[c][\"max\"] = (func_argmax, func_max, position)"
   ]
  },
  {
   "cell_type": "code",
   "execution_count": null,
   "metadata": {},
   "outputs": [],
   "source": [
    "for c in DATA:\n",
    "    find_peaks_func(c)"
   ]
  },
  {
   "cell_type": "markdown",
   "metadata": {},
   "source": [
    "### Function HWHH"
   ]
  },
  {
   "cell_type": "code",
   "execution_count": null,
   "metadata": {},
   "outputs": [],
   "source": [
    "FUNC_HWHH = {}\n",
    "for c in DATA:\n",
    "    FUNC_HWHH[c] = None"
   ]
  },
  {
   "cell_type": "code",
   "execution_count": null,
   "metadata": {},
   "outputs": [],
   "source": [
    "def find_func_hwhh(c):\n",
    "    if FIT_FUNC[c] is None:\n",
    "        return\n",
    "\n",
    "    t1 = FIT_FUNC[c][2]\n",
    "    func_peaks = FUNC_PEAKS[c]\n",
    "\n",
    "    if func_peaks[\"max\"] is not None:\n",
    "        high = func_peaks[\"max\"][1] / 2\n",
    "        position_array = func_peaks[\"max\"][2]\n",
    "\n",
    "    if func_peaks[\"min\"] is not None:\n",
    "        high = func_peaks[\"min\"][1] / 2\n",
    "        position_array = func_peaks[\"min\"][2]\n",
    "\n",
    "    points_near = np.where(np.isclose(t1, high, atol=1e-2))[0]\n",
    "\n",
    "    try:\n",
    "        max = np.max([x for x in points_near if x < position_array])\n",
    "        min = np.min([x for x in points_near if x > position_array])\n",
    "        FUNC_HWHH[c] = ((TIME_CONT[max] + TIME_CONT[min]) / 2, high)\n",
    "    except:\n",
    "        return"
   ]
  },
  {
   "cell_type": "code",
   "execution_count": null,
   "metadata": {},
   "outputs": [],
   "source": [
    "for c in DATA:\n",
    "    find_func_hwhh(c)"
   ]
  },
  {
   "cell_type": "markdown",
   "metadata": {},
   "source": [
    "### Function Roots"
   ]
  },
  {
   "cell_type": "code",
   "execution_count": null,
   "metadata": {},
   "outputs": [],
   "source": [
    "FUNC_ROOTS = {}\n",
    "for c in DATA:\n",
    "    FUNC_ROOTS[c] = {\"First\": None, \"ZC\": None}"
   ]
  },
  {
   "cell_type": "code",
   "execution_count": null,
   "metadata": {},
   "outputs": [],
   "source": [
    "std_mult = 0.01\n",
    "\n",
    "for c in DATA:\n",
    "    if FIT_FUNC[c] is not None:\n",
    "        result, x_fit, t1 = FIT_FUNC[c]\n",
    "    else:\n",
    "        continue\n",
    "\n",
    "    zero_crossings = np.where(np.diff(np.signbit(t1)))[0]\n",
    "    near_zero = np.where(np.abs(t1) < np.std(t1) * std_mult)[0]\n",
    "\n",
    "    # data peaks\n",
    "    peaks = FUNC_PEAKS[c]\n",
    "\n",
    "    v1 = (\n",
    "        peaks[\"min\"] is not None\n",
    "        and peaks[\"max\"] is not None\n",
    "        and peaks[\"min\"] <= peaks[\"max\"]\n",
    "    )\n",
    "    v2 = peaks[\"min\"] is not None and peaks[\"max\"] is None\n",
    "    v3 = (\n",
    "        peaks[\"min\"] is not None\n",
    "        and peaks[\"max\"] is not None\n",
    "        and peaks[\"min\"] >= peaks[\"max\"]\n",
    "    )\n",
    "    v4 = peaks[\"min\"] is None and peaks[\"max\"] is not None\n",
    "\n",
    "    if v1 or v2:\n",
    "        value = peaks[\"min\"][2]\n",
    "    if v3 or v4:\n",
    "        value = peaks[\"max\"][2]\n",
    "\n",
    "    try:\n",
    "        points_after = [x for x in zero_crossings if x > value]\n",
    "        zc_position = np.min(points_after)\n",
    "        zc = TIME_CONT[zc_position]\n",
    "        FUNC_ROOTS[c][\"ZC\"] = zc\n",
    "\n",
    "        points_before = [x for x in near_zero if x < value]\n",
    "        first_position = np.max(points_before)\n",
    "        first = TIME_CONT[first_position]\n",
    "        FUNC_ROOTS[c][\"First\"] = first\n",
    "    except:\n",
    "        continue"
   ]
  },
  {
   "cell_type": "markdown",
   "metadata": {},
   "source": [
    "### Function Bandwidth"
   ]
  },
  {
   "cell_type": "code",
   "execution_count": null,
   "metadata": {},
   "outputs": [],
   "source": [
    "FUNC_BANDWIDTH = {}\n",
    "for c in DATA:\n",
    "    if FUNC_ROOTS[c][\"First\"] is not None and FUNC_ROOTS[c][\"ZC\"] is not None:\n",
    "        FUNC_BANDWIDTH[c] = FUNC_ROOTS[c][\"ZC\"] - FUNC_ROOTS[c][\"First\"]\n",
    "    else:\n",
    "        FUNC_BANDWIDTH[c] = None"
   ]
  },
  {
   "cell_type": "markdown",
   "metadata": {},
   "source": [
    "## Export data"
   ]
  },
  {
   "cell_type": "code",
   "execution_count": null,
   "metadata": {},
   "outputs": [],
   "source": [
    "TO_SAVE = {\n",
    "    \"FUNC_VALUES\": FUNC_VALUES,\n",
    "    \"FUNC_PEAKS\": FUNC_PEAKS,\n",
    "    \"FUNC_HWHH\": FUNC_HWHH,\n",
    "    \"FUNC_ROOTS\": FUNC_ROOTS,\n",
    "    \"FUNC_BANDWIDTH\": FUNC_BANDWIDTH,\n",
    "}\n",
    "\n",
    "for elem in TO_SAVE.keys():\n",
    "    with open(\"../../\" + config[\"paths\"][\"data_cache\"][elem], \"wb\") as output:\n",
    "        pickle.dump(TO_SAVE[elem], output)"
   ]
  },
  {
   "cell_type": "markdown",
   "metadata": {},
   "source": [
    "___"
   ]
  },
  {
   "cell_type": "markdown",
   "metadata": {},
   "source": [
    "## Plots"
   ]
  },
  {
   "cell_type": "code",
   "execution_count": null,
   "metadata": {},
   "outputs": [],
   "source": [
    "def plot_sta(cell, thrsh=0.05):\n",
    "    # get fitted function\n",
    "    if FIT_FUNC[c] is None:\n",
    "        return\n",
    "    else:\n",
    "        result, x_fit, t1 = FIT_FUNC[c]\n",
    "\n",
    "    # plot\n",
    "    fig, ax = plt.subplots(1, 2)\n",
    "    fig.suptitle(\"Cell: \" + cell, weight=\"bold\")\n",
    "    fig.tight_layout()\n",
    "    fig.set_size_inches(10, 3)\n",
    "\n",
    "    ax[1].axhline(y=0, color=\"black\", linestyle=\"-\", lw=1)  # horizontal axis\n",
    "\n",
    "    # get data\n",
    "    t = T_DATA[\"contrast\"][c][::-1]\n",
    "    max = np.max(t)\n",
    "    min = np.min(t)\n",
    "\n",
    "    # plot data\n",
    "    ax[1].scatter(TIME, t, c=\"grey\", label=\"Data\")\n",
    "\n",
    "    # find data peaks\n",
    "    peaks = PEAKS_DATA[c]\n",
    "    if peaks[\"max\"] is not None:\n",
    "        ax[1].axvline(\n",
    "            x=peaks[\"max\"][1], color=\"grey\", label=\"Data Max\", linestyle=\"--\", lw=1\n",
    "        )\n",
    "    if peaks[\"min\"] is not None:\n",
    "        ax[1].axvline(\n",
    "            x=peaks[\"min\"][1], color=\"grey\", label=\"Data Min\", linestyle=\"--\", lw=1\n",
    "        )\n",
    "\n",
    "    # plot function model\n",
    "    if result.chisqr < thrsh:\n",
    "        ax[1].plot(TIME_CONT, t1, label=\"Function \")\n",
    "    else:\n",
    "        ax[1].plot(TIME_CONT, t1, label=\"Function\", color=\"red\")\n",
    "\n",
    "    ax[1].text(\n",
    "        0.0,\n",
    "        min,\n",
    "        \"Chi-Square: \" + str(truncate_float(result.chisqr, 4)),\n",
    "        fontsize=10,\n",
    "        bbox=dict(facecolor=\"white\", alpha=1),\n",
    "    )\n",
    "\n",
    "    # get function roots\n",
    "    if FUNC_ROOTS[c][\"ZC\"] is not None:\n",
    "        zc = FUNC_ROOTS[c][\"ZC\"]\n",
    "        ax[1].scatter(zc, 0, color=\"orange\", marker=\".\")\n",
    "        ax[1].axvline(\n",
    "            x=zc,\n",
    "            color=\"orange\",\n",
    "            label=\"Function Zero Crossing Prediction\",\n",
    "            linestyle=\":\",\n",
    "            lw=1,\n",
    "        )\n",
    "\n",
    "    # function model peaks prediction\n",
    "    if peaks[\"max\"] is not None:\n",
    "        func_max = FUNC_PEAKS[c][\"max\"][1]\n",
    "        func_argmax = FUNC_PEAKS[c][\"max\"][0]\n",
    "        ax[1].scatter(func_argmax, func_max, color=\"purple\", marker=\".\")\n",
    "        ax[1].axvline(\n",
    "            x=func_argmax,\n",
    "            color=\"purple\",\n",
    "            label=\"Function Max Prediction\",\n",
    "            linestyle=\"--\",\n",
    "            lw=1,\n",
    "        )\n",
    "    if peaks[\"min\"] is not None:\n",
    "        func_min = FUNC_PEAKS[c][\"min\"][1]\n",
    "        func_argmin = FUNC_PEAKS[c][\"min\"][0]\n",
    "        ax[1].scatter(func_argmin, func_min, color=\"purple\", marker=\".\")\n",
    "        ax[1].axvline(\n",
    "            x=func_argmin,\n",
    "            color=\"purple\",\n",
    "            label=\"Function Min Prediction\",\n",
    "            linestyle=\"--\",\n",
    "            lw=1,\n",
    "        )\n",
    "\n",
    "    # function hwhh prediction\n",
    "    if FUNC_HWHH[c] is not None:\n",
    "        ax[1].scatter(\n",
    "            FUNC_HWHH[c][0],\n",
    "            FUNC_HWHH[c][1],\n",
    "            color=\"black\",\n",
    "            marker=\"+\",\n",
    "            label=\"Function HWHH Prediction\",\n",
    "        )\n",
    "\n",
    "    ax[1].legend(bbox_to_anchor=(1.0, 1), loc=\"upper left\")\n",
    "    ax[1].set_xlabel(\"Time to Spike (s)\")\n",
    "    ax[1].set_ylabel(\"STA Contrast\")\n",
    "\n",
    "    # plot image\n",
    "    ax[0].imshow(S_DATA[cell], aspect=\"equal\", cmap=\"gray_r\")\n",
    "    try:\n",
    "        center, width, theta = filtertools.get_ellipse(S_DATA[cell])\n",
    "        ells = Ellipse(\n",
    "            xy=(center[1], center[0]),\n",
    "            width=width[0],\n",
    "            height=width[1],\n",
    "            angle=theta,\n",
    "            color=\"C1\",\n",
    "            fill=False,\n",
    "            alpha=0.85,\n",
    "            linewidth=2.0,\n",
    "        )\n",
    "        ax[0].add_artist(ells)\n",
    "    except:\n",
    "        ax[0].annotate(\"Ellipse fitting failed\", (15, 15))\n",
    "        pass\n",
    "\n",
    "    plt.show()"
   ]
  },
  {
   "cell_type": "code",
   "execution_count": null,
   "metadata": {},
   "outputs": [],
   "source": [
    "for c in DATA[0:]:\n",
    "    plot_sta(c)"
   ]
  },
  {
   "cell_type": "markdown",
   "metadata": {},
   "source": [
    "## Analysis"
   ]
  },
  {
   "cell_type": "code",
   "execution_count": null,
   "metadata": {},
   "outputs": [],
   "source": [
    "FUNC_X_HWHH = [FUNC_HWHH[c][0] for c in DATA if FUNC_HWHH[c] is not None]\n",
    "FUNC_Y_HWHH = [FUNC_HWHH[c][1] for c in DATA if FUNC_HWHH[c] is not None]\n",
    "\n",
    "print(\"Los promedios son: \")\n",
    "print(\"X: \" + str(np.mean(FUNC_X_HWHH)))\n",
    "print(\"Y: \" + str(np.mean(FUNC_Y_HWHH)))\n",
    "print(\"Las desviaciones estándar son: \")\n",
    "print(\"X: \" + str(np.std(FUNC_X_HWHH)))\n",
    "print(\"Y: \" + str(np.std(FUNC_Y_HWHH)))"
   ]
  },
  {
   "cell_type": "code",
   "execution_count": null,
   "metadata": {},
   "outputs": [],
   "source": [
    "HIST_BANDWIDTH = [FUNC_BANDWIDTH[c] for c in DATA if FUNC_BANDWIDTH[c] is not None]\n",
    "\n",
    "print(\"El promedio para el ancho de banda es: \" + str(np.mean(HIST_BANDWIDTH)))\n",
    "print(\n",
    "    \"La desviación estándar para el ancho de banda es: \" + str(np.std(HIST_BANDWIDTH))\n",
    ")"
   ]
  },
  {
   "cell_type": "code",
   "execution_count": null,
   "metadata": {},
   "outputs": [],
   "source": [
    "HIST_RESIDUALS = []\n",
    "\n",
    "for c in DATA:\n",
    "    if FIT_FUNC[c] is not None:\n",
    "        HIST_RESIDUALS.append(FUNC_RESIDUALS[c])\n",
    "\n",
    "for c in DATA:\n",
    "    if FIT_FUNC[c] is None:\n",
    "        del FUNC_RESIDUALS[c]\n",
    "\n",
    "print(\"El promedio para los residuos es: \" + str(np.mean(HIST_RESIDUALS)))\n",
    "print(\"La desviación estándar para los residuos es: \" + str(np.std(HIST_RESIDUALS)), end = \"\\n\")\n",
    "print(\n",
    "    \"El peor ajuste fue para la célula: \"\n",
    "    + max(FUNC_RESIDUALS, key=FUNC_RESIDUALS.get)\n",
    "    + \", y la suma de sus errores cuadráticos fue: \"\n",
    "    + str(FUNC_RESIDUALS[max(FUNC_RESIDUALS, key=FUNC_RESIDUALS.get)])\n",
    ")\n",
    "print(\n",
    "    \"El mejor ajuste fue para la célula: \"\n",
    "    + min(FUNC_RESIDUALS, key=FUNC_RESIDUALS.get)\n",
    "    + \", y la suma de sus errores cuadráticos fue: \"\n",
    "    + str(FUNC_RESIDUALS[min(FUNC_RESIDUALS, key=FUNC_RESIDUALS.get)])\n",
    ")"
   ]
  },
  {
   "cell_type": "code",
   "execution_count": null,
   "metadata": {},
   "outputs": [],
   "source": [
    "plot_hist(title=\"Histogram for 'x' values in HWHH points\", X=FUNC_X_HWHH)\n",
    "plt.show()"
   ]
  },
  {
   "cell_type": "code",
   "execution_count": null,
   "metadata": {},
   "outputs": [],
   "source": [
    "plot_hist(title=\"Histogram for 'y' values in HWHH points\", X=FUNC_Y_HWHH)\n",
    "plt.show()"
   ]
  },
  {
   "cell_type": "code",
   "execution_count": null,
   "metadata": {},
   "outputs": [],
   "source": [
    "plot_hist(title=\"Histogram for 'bandwidth' values\", X=HIST_BANDWIDTH)\n",
    "plt.show()"
   ]
  },
  {
   "cell_type": "code",
   "execution_count": null,
   "metadata": {},
   "outputs": [],
   "source": [
    "plot_hist2d(\n",
    "    title=\"2D Histogram of x & y in HWHH points\",\n",
    "    X=FUNC_X_HWHH,\n",
    "    Y=FUNC_Y_HWHH,\n",
    "    xlab=\"x hwhh\",\n",
    "    ylab=\"y hwhh\",\n",
    "    bins=30,\n",
    ")\n",
    "plt.show()"
   ]
  },
  {
   "cell_type": "code",
   "execution_count": null,
   "metadata": {},
   "outputs": [],
   "source": [
    "plot_hist(title=\"Histogram of Function Residuals\", X=HIST_RESIDUALS)\n",
    "plt.show()"
   ]
  },
  {
   "cell_type": "code",
   "execution_count": null,
   "metadata": {},
   "outputs": [],
   "source": [
    "PARAMETERS = {\"amp1\": [], \"amp2\": [], \"tau1\": [], \"tau2\": [], \"n\": []}"
   ]
  },
  {
   "cell_type": "code",
   "execution_count": null,
   "metadata": {},
   "outputs": [],
   "source": [
    "for c in DATA:\n",
    "    if FIT_FUNC[c] is not None:\n",
    "        result, x_fit, t1 = FIT_FUNC[c]\n",
    "        PARAMETERS[\"amp1\"].append(result.params[\"amp1\"].value)\n",
    "        PARAMETERS[\"amp2\"].append(result.params[\"amp2\"].value)\n",
    "        PARAMETERS[\"tau1\"].append(result.params[\"tau1\"].value)\n",
    "        PARAMETERS[\"tau2\"].append(result.params[\"tau2\"].value)\n",
    "        PARAMETERS[\"n\"].append(result.params[\"n\"].value)"
   ]
  },
  {
   "cell_type": "code",
   "execution_count": null,
   "metadata": {},
   "outputs": [],
   "source": [
    "plot_hist(title=\"Histogram for 'amp1' value\", X=PARAMETERS[\"amp1\"])\n",
    "plt.show()"
   ]
  },
  {
   "cell_type": "code",
   "execution_count": null,
   "metadata": {},
   "outputs": [],
   "source": [
    "plot_hist(title=\"Histogram for 'amp2' value\", X=PARAMETERS[\"amp2\"])\n",
    "plt.show()"
   ]
  },
  {
   "cell_type": "code",
   "execution_count": null,
   "metadata": {},
   "outputs": [],
   "source": [
    "plot_hist(title=\"Histogram for 'tau1' value\", X=PARAMETERS[\"tau1\"])\n",
    "plt.show()"
   ]
  },
  {
   "cell_type": "code",
   "execution_count": null,
   "metadata": {},
   "outputs": [],
   "source": [
    "plot_hist(title=\"Histogram for 'tau2' value\", X=PARAMETERS[\"tau2\"])\n",
    "plt.show()"
   ]
  },
  {
   "cell_type": "code",
   "execution_count": null,
   "metadata": {},
   "outputs": [],
   "source": [
    "plot_hist(title=\"Histogram for 'n' value\", X=PARAMETERS[\"n\"])\n",
    "plt.show()"
   ]
  },
  {
   "cell_type": "markdown",
   "metadata": {},
   "source": [
    "___"
   ]
  }
 ],
 "metadata": {
  "kernelspec": {
   "display_name": "Python 3",
   "language": "python",
   "name": "python3"
  },
  "language_info": {
   "codemirror_mode": {
    "name": "ipython",
    "version": 3
   },
   "file_extension": ".py",
   "mimetype": "text/x-python",
   "name": "python",
   "nbconvert_exporter": "python",
   "pygments_lexer": "ipython3",
   "version": "3.10.13"
  }
 },
 "nbformat": 4,
 "nbformat_minor": 2
}
