{
 "cells": [
  {
   "cell_type": "markdown",
   "metadata": {},
   "source": [
    "# Poly paper: Ganglion Cells in the Retina\n",
    "- **Author**: Javier Cruz\n",
    "- **Contact**: https://github.com/sisyphvs\n",
    "- **Last Modification**: January 26, 2024\n",
    "- **Description**:"
   ]
  },
  {
   "cell_type": "markdown",
   "metadata": {},
   "source": [
    "## Introduction"
   ]
  },
  {
   "cell_type": "markdown",
   "metadata": {},
   "source": [
    "### Importing Libraries"
   ]
  },
  {
   "cell_type": "code",
   "execution_count": null,
   "metadata": {},
   "outputs": [],
   "source": [
    "import sys\n",
    "import numpy as np\n",
    "import matplotlib.pyplot as plt\n",
    "import pickle\n",
    "import warnings\n",
    "from pyret import filtertools\n",
    "from matplotlib.patches import Ellipse"
   ]
  },
  {
   "cell_type": "code",
   "execution_count": null,
   "metadata": {},
   "outputs": [],
   "source": [
    "sys.path.append(\"../..\")"
   ]
  },
  {
   "cell_type": "code",
   "execution_count": null,
   "metadata": {},
   "outputs": [],
   "source": [
    "from scripts import load_yaml_config, truncate_float, plot_hist, plot_hist2d"
   ]
  },
  {
   "cell_type": "markdown",
   "metadata": {},
   "source": [
    "### Paths and congifuration"
   ]
  },
  {
   "cell_type": "code",
   "execution_count": null,
   "metadata": {},
   "outputs": [],
   "source": [
    "plt.style.use(\"seaborn-v0_8-darkgrid\")"
   ]
  },
  {
   "cell_type": "code",
   "execution_count": null,
   "metadata": {},
   "outputs": [],
   "source": [
    "configPath = \"../../config/\"\n",
    "config = load_yaml_config(configPath + \"general_config.yml\")\n",
    "\n",
    "DATA_RFS_PATH = \"../..\" + config[\"paths\"][\"data_cache\"][\"DATA_RFS\"]\n",
    "S_DATA_STA_PATH = \"../..\" + config[\"paths\"][\"data_cache\"][\"S_DATA_STA\"]\n",
    "T_DATA_STA_PATH = \"../..\" + config[\"paths\"][\"data_cache\"][\"T_DATA_STA\"]"
   ]
  },
  {
   "cell_type": "markdown",
   "metadata": {},
   "source": [
    "### Loading data"
   ]
  },
  {
   "cell_type": "code",
   "execution_count": null,
   "metadata": {},
   "outputs": [],
   "source": [
    "with open(DATA_RFS_PATH, \"rb\") as file:\n",
    "    DATA = pickle.load(file)\n",
    "with open(S_DATA_STA_PATH, \"rb\") as file:\n",
    "    S_DATA = pickle.load(file)\n",
    "with open(T_DATA_STA_PATH, \"rb\") as file:\n",
    "    T_DATA = pickle.load(file)"
   ]
  },
  {
   "cell_type": "markdown",
   "metadata": {},
   "source": [
    "### Constants"
   ]
  },
  {
   "cell_type": "code",
   "execution_count": null,
   "metadata": {},
   "outputs": [],
   "source": [
    "FPS = config[\"params\"][\"FPS\"]\n",
    "FRAME_TIME = 1 / FPS\n",
    "TIME = T_DATA[\"time\"]\n",
    "TIME_CONT = np.linspace(0, 26, 260) * FRAME_TIME\n",
    "FRAMES = len(T_DATA[\"contrast\"][\"temp_100\"])"
   ]
  },
  {
   "cell_type": "markdown",
   "metadata": {},
   "source": [
    "## Peaks"
   ]
  },
  {
   "cell_type": "code",
   "execution_count": null,
   "metadata": {},
   "outputs": [],
   "source": [
    "#find data peaks: \n",
    "def find_peaks(t,std_mult = 1.75):\n",
    "    peaks = {}\n",
    "    std = np.std(t)\n",
    "    max = np.max(t)\n",
    "    min = np.min(t)\n",
    "    \n",
    "    if max > std_mult * std:\n",
    "        position = np.where(t == max)[0][0]\n",
    "        peaks[\"max\"] = (position, position*FRAME_TIME)\n",
    "    else:\n",
    "        peaks[\"max\"] = None\n",
    "    \n",
    "    if min < - std_mult * std:\n",
    "        position = np.where(t == min)[0][0]\n",
    "        peaks[\"min\"] = (position, position*FRAME_TIME)\n",
    "    else:\n",
    "        peaks[\"min\"] = None\n",
    "    \n",
    "    return peaks"
   ]
  },
  {
   "cell_type": "code",
   "execution_count": null,
   "metadata": {},
   "outputs": [],
   "source": [
    "PEAKS_DATA = {}\n",
    "\n",
    "for c in DATA:\n",
    "    PEAKS_DATA[c] = find_peaks(T_DATA[\"contrast\"][c][::-1])"
   ]
  },
  {
   "cell_type": "markdown",
   "metadata": {},
   "source": [
    "## Polynomial Fitting"
   ]
  },
  {
   "cell_type": "code",
   "execution_count": null,
   "metadata": {},
   "outputs": [],
   "source": [
    "#get polynom\n",
    "POLY_DATA = {}\n",
    "POLY_RESIDUALS = {}\n",
    "\n",
    "for c in DATA:\n",
    "    t = T_DATA[\"contrast\"][c][::-1] \n",
    "\n",
    "    #polynomial regression predicted\n",
    "    x = T_DATA[\"time\"]\n",
    "    with warnings.catch_warnings():\n",
    "        warnings.simplefilter('ignore', np.RankWarning)\n",
    "        polyfit = np.polyfit(x,t,5,full=True) #polynom of degree 5\n",
    "        p = np.poly1d(polyfit[0]) \n",
    "        residual = polyfit[1][0]\n",
    "    \n",
    "    #save data\n",
    "    POLY_DATA[c] = p\n",
    "    POLY_RESIDUALS[c] = residual"
   ]
  },
  {
   "cell_type": "markdown",
   "metadata": {},
   "source": [
    "## Polynomial Data"
   ]
  },
  {
   "cell_type": "markdown",
   "metadata": {},
   "source": [
    "### Polynomial values"
   ]
  },
  {
   "cell_type": "code",
   "execution_count": null,
   "metadata": {},
   "outputs": [],
   "source": [
    "POLY_VALUES = {}\n",
    "\n",
    "for c in DATA:\n",
    "    POLY_VALUES[c] = POLY_DATA[c](TIME_CONT)"
   ]
  },
  {
   "cell_type": "markdown",
   "metadata": {},
   "source": [
    "### Polynomial Peaks"
   ]
  },
  {
   "cell_type": "code",
   "execution_count": null,
   "metadata": {},
   "outputs": [],
   "source": [
    "POLY_PEAKS = {}\n",
    "for c in DATA:\n",
    "    POLY_PEAKS[c] = {\"max\": None,\"min\": None}"
   ]
  },
  {
   "cell_type": "code",
   "execution_count": null,
   "metadata": {},
   "outputs": [],
   "source": [
    "def find_poly_peaks(c): \n",
    "    peaks = PEAKS_DATA[c]\n",
    "    p = POLY_DATA[c]\n",
    "    t1 = p(TIME_CONT)\n",
    "\n",
    "    if peaks[\"min\"] is not None:\n",
    "        func_min = np.min(t1)\n",
    "        position = np.argmin(t1)\n",
    "        func_argmin = TIME_CONT[position]\n",
    "        POLY_PEAKS[c][\"min\"] = (func_argmin,func_min,position)\n",
    "\n",
    "    if peaks[\"max\"] is not None:\n",
    "        func_max = np.max(t1)\n",
    "        position = np.argmax(t1)\n",
    "        func_argmax = TIME_CONT[position]\n",
    "        POLY_PEAKS[c][\"max\"] = (func_argmax,func_max,position)"
   ]
  },
  {
   "cell_type": "code",
   "execution_count": null,
   "metadata": {},
   "outputs": [],
   "source": [
    "for c in DATA:\n",
    "    find_poly_peaks(c)"
   ]
  },
  {
   "cell_type": "markdown",
   "metadata": {},
   "source": [
    "### Polynomial HWHH"
   ]
  },
  {
   "cell_type": "code",
   "execution_count": null,
   "metadata": {},
   "outputs": [],
   "source": [
    "POLY_HWHH = {}\n",
    "for c in DATA:\n",
    "    POLY_HWHH[c] = None"
   ]
  },
  {
   "cell_type": "code",
   "execution_count": null,
   "metadata": {},
   "outputs": [],
   "source": [
    "def find_poly_hwhh(c,p):\n",
    "    poly_peaks = POLY_PEAKS[c]\n",
    "    x_p = TIME_CONT\n",
    "    if poly_peaks[\"max\"] is None and poly_peaks[\"min\"] is None:\n",
    "        return\n",
    "\n",
    "    if poly_peaks[\"max\"] is not None:\n",
    "        high = poly_peaks[\"max\"][1]/2\n",
    "        position_array = poly_peaks[\"max\"][2]\n",
    "    \n",
    "    if poly_peaks[\"min\"] is not None:\n",
    "        high = poly_peaks[\"min\"][1]/2\n",
    "        position_array = poly_peaks[\"min\"][2]\n",
    "    \n",
    "    points_near = np.where(np.isclose(p(x_p),high,atol=1e-2))[0]\n",
    "    try:\n",
    "        max = np.max([x for x in points_near if x < position_array])\n",
    "        min = np.min([x for x in points_near if x > position_array])\n",
    "        POLY_HWHH[c] = ((x_p[max]+x_p[min])/2,high)\n",
    "    except:\n",
    "        return"
   ]
  },
  {
   "cell_type": "code",
   "execution_count": null,
   "metadata": {},
   "outputs": [],
   "source": [
    "for c in DATA:\n",
    "    find_poly_hwhh(c,POLY_DATA[c])"
   ]
  },
  {
   "cell_type": "markdown",
   "metadata": {},
   "source": [
    "### Polynomial Roots"
   ]
  },
  {
   "cell_type": "code",
   "execution_count": null,
   "metadata": {},
   "outputs": [],
   "source": [
    "POLY_ROOTS = {}\n",
    "\n",
    "for c in DATA:\n",
    "    POLY_ROOTS[c] = {\"First\": None, \"ZC\": None}"
   ]
  },
  {
   "cell_type": "code",
   "execution_count": null,
   "metadata": {},
   "outputs": [],
   "source": [
    "for c in DATA:\n",
    "    p = POLY_DATA[c]\n",
    "    zero_crossings = np.where(np.diff(np.signbit(p(TIME_CONT))))[0]\n",
    "\n",
    "    #data peaks\n",
    "    peaks = POLY_PEAKS[c]\n",
    "\n",
    "    v1 = peaks[\"min\"] is not None and peaks[\"max\"] is not None and peaks[\"min\"]<=peaks[\"max\"]\n",
    "    v2 = peaks[\"min\"] is not None and peaks[\"max\"] is None\n",
    "    v3 = peaks[\"min\"] is not None and peaks[\"max\"] is not None and peaks[\"min\"]>=peaks[\"max\"]\n",
    "    v4 = peaks[\"min\"] is None and peaks[\"max\"] is not None\n",
    "\n",
    "    if v1 or v2:\n",
    "        value = peaks[\"min\"][2]    \n",
    "    if v3 or v4:\n",
    "        value = peaks[\"max\"][2] \n",
    "    \n",
    "    try:\n",
    "        points_after = [x for x in zero_crossings if x > value]\n",
    "        zc_position = np.min(points_after)\n",
    "        zc = TIME_CONT[zc_position]\n",
    "        POLY_ROOTS[c][\"ZC\"] = zc\n",
    "        \n",
    "        points_before = [x for x in zero_crossings if x < value]\n",
    "        first_position = np.max(points_before)\n",
    "        first = TIME_CONT[first_position]\n",
    "        POLY_ROOTS[c][\"First\"] = first\n",
    "    except:\n",
    "        continue"
   ]
  },
  {
   "cell_type": "markdown",
   "metadata": {},
   "source": [
    "### Polynomial Bandwidth"
   ]
  },
  {
   "cell_type": "code",
   "execution_count": null,
   "metadata": {},
   "outputs": [],
   "source": [
    "POLY_BANDWIDTH = {}\n",
    "for c in DATA:\n",
    "    if POLY_ROOTS[c][\"First\"] is not None and POLY_ROOTS[c][\"ZC\"] is not None:\n",
    "        POLY_BANDWIDTH[c] = POLY_ROOTS[c][\"ZC\"] - POLY_ROOTS[c][\"First\"]\n",
    "    else:\n",
    "        POLY_BANDWIDTH[c] = None"
   ]
  },
  {
   "cell_type": "markdown",
   "metadata": {},
   "source": [
    "## Export data"
   ]
  },
  {
   "cell_type": "code",
   "execution_count": null,
   "metadata": {},
   "outputs": [],
   "source": [
    "TO_SAVE = {\n",
    "    \"POLY_VALUES\": POLY_VALUES,\n",
    "    \"POLY_PEAKS\": POLY_PEAKS,\n",
    "    \"POLY_HWHH\": POLY_HWHH,\n",
    "    \"POLY_ROOTS\": POLY_ROOTS,\n",
    "    \"POLY_BANDWIDTH\": POLY_BANDWIDTH,\n",
    "}\n",
    "\n",
    "for elem in TO_SAVE.keys():\n",
    "    with open(\"../../\" + config[\"paths\"][\"data_cache\"][elem], \"wb\") as output:\n",
    "        pickle.dump(TO_SAVE[elem], output)"
   ]
  },
  {
   "cell_type": "markdown",
   "metadata": {},
   "source": [
    "___"
   ]
  },
  {
   "cell_type": "markdown",
   "metadata": {},
   "source": [
    "## Plots"
   ]
  },
  {
   "cell_type": "code",
   "execution_count": null,
   "metadata": {},
   "outputs": [],
   "source": [
    "def plot_sta(cell, thrsh = .05):\n",
    "    fig, ax = plt.subplots(1,2)\n",
    "    fig.suptitle(\"Cell: \" + cell, weight = \"bold\")\n",
    "    fig.tight_layout()\n",
    "    fig.set_size_inches(10,3)\n",
    "    \n",
    "    ax[1].axhline(y = 0,color = \"black\",linestyle = \"-\",lw = 1) #horizontal axis\n",
    "    \n",
    "    #get data\n",
    "    t = T_DATA[\"contrast\"][c][::-1]   \n",
    "    min = np.min(t)\n",
    "    p = POLY_DATA[c]\n",
    "\n",
    "    #plot data\n",
    "    ax[1].scatter(TIME,t,c=\"grey\",label=\"Data\")\n",
    "    \n",
    "    #find data peaks\n",
    "    peaks = PEAKS_DATA[c]\n",
    "    if peaks[\"max\"] is not None:\n",
    "        ax[1].axvline(x=peaks[\"max\"][1], color = \"grey\", label=\"Data Max\", linestyle = \"--\",lw=1)\n",
    "    if peaks[\"min\"] is not None:\n",
    "        ax[1].axvline(x=peaks[\"min\"][1], color = \"grey\", label=\"Data Min\", linestyle = \"--\",lw=1)\n",
    "\n",
    "    #plot ploynom\n",
    "    if POLY_RESIDUALS[c] < thrsh:\n",
    "        ax[1].plot(TIME_CONT,p(TIME_CONT),label = \"Poly Prediction\")\n",
    "    else:\n",
    "        ax[1].plot(TIME_CONT,p(TIME_CONT),label = \"Poly Prediction\",color = \"red\")\n",
    "\n",
    "    ax[1].text(0.0,min,'Chi-Square: ' + str(truncate_float(POLY_RESIDUALS[c],4)), fontsize = 10,bbox = dict(facecolor = 'white', alpha = 1))\n",
    "    \n",
    "    #plot poly roots\n",
    "    if POLY_ROOTS[c][\"ZC\"] is not None:\n",
    "        zc = POLY_ROOTS[c][\"ZC\"]\n",
    "        ax[1].scatter(zc,0, color = \"orange\",marker=\".\")\n",
    "        ax[1].axvline(x=zc, color = \"orange\",label = \"Poly Zero Crossing Prediction\", linestyle = \":\",lw=1) \n",
    "\n",
    "    #polynom model peaks prediction\n",
    "    if peaks[\"max\"] is not None:\n",
    "        func_max = POLY_PEAKS[c][\"max\"][1]\n",
    "        func_argmax = POLY_PEAKS[c][\"max\"][0]\n",
    "        ax[1].scatter(func_argmax,func_max,color = \"purple\",marker = \".\")\n",
    "        ax[1].axvline(x=func_argmax, color = \"purple\", label=\"Poly Max Prediction\", linestyle = \"--\",lw=1)\n",
    "    if peaks[\"min\"] is not None:\n",
    "        func_min = POLY_PEAKS[c][\"min\"][1]\n",
    "        func_argmin = POLY_PEAKS[c][\"min\"][0]\n",
    "        ax[1].scatter(func_argmin,func_min,color = \"purple\",marker = \".\")\n",
    "        ax[1].axvline(x=func_argmin, color = \"purple\", label=\"Poly Min Prediction\", linestyle = \"--\",lw=1)\n",
    "\n",
    "    #polynom hwhh prediction\n",
    "    if POLY_HWHH[c] is not None:\n",
    "        ax[1].scatter(POLY_HWHH[c][0],POLY_HWHH[c][1],color = \"black\",marker=\"+\",label = \"Poly HWHH Prediction\")\n",
    "    \n",
    "    ax[1].legend(bbox_to_anchor = (1.0, 1), loc = 'upper left')\n",
    "    ax[1].set_xlabel(\"Time to Spike (s)\")\n",
    "    ax[1].set_ylabel(\"STA Contrast\")\n",
    "    \n",
    "    #plot image\n",
    "    ax[0].imshow(S_DATA[cell], aspect = 'equal', cmap = 'gray_r')\n",
    "    try:\n",
    "        center, width, theta = filtertools.get_ellipse(S_DATA[cell])\n",
    "        ells = Ellipse(xy = (center[1], center[0]), width = width[0], height = width[1], angle = theta,\n",
    "                    color = 'C1', fill = False, alpha=0.85, linewidth=2.)\n",
    "        ax[0].add_artist(ells)\n",
    "    except:\n",
    "        ax[0].annotate('Ellipse fitting failed', (15,15))\n",
    "        pass\n",
    "    \n",
    "    plt.show()"
   ]
  },
  {
   "cell_type": "code",
   "execution_count": null,
   "metadata": {},
   "outputs": [],
   "source": [
    "for c in DATA:\n",
    "    plot_sta(c)"
   ]
  },
  {
   "cell_type": "markdown",
   "metadata": {},
   "source": [
    "## Analysis"
   ]
  },
  {
   "cell_type": "code",
   "execution_count": null,
   "metadata": {},
   "outputs": [],
   "source": [
    "POLY_X_HWHH = [POLY_HWHH[c][0] for c in DATA if POLY_HWHH[c] is not None]\n",
    "POLY_Y_HWHH = [POLY_HWHH[c][1] for c in DATA if POLY_HWHH[c] is not None]\n",
    "\n",
    "print(\"Los promedios para las coordenadas del HWHH son: \")\n",
    "print(\"X: \" + str(np.mean(POLY_X_HWHH)))\n",
    "print(\"Y: \" + str(np.mean(POLY_Y_HWHH)))\n",
    "print(\"Las desviaciones estándar para las coordenadas del HWHH son: \")\n",
    "print(\"X: \" + str(np.std(POLY_X_HWHH)))\n",
    "print(\"Y: \" + str(np.std(POLY_Y_HWHH)))"
   ]
  },
  {
   "cell_type": "code",
   "execution_count": null,
   "metadata": {},
   "outputs": [],
   "source": [
    "HIST_BANDWIDTH = [POLY_BANDWIDTH[c] for c in DATA if POLY_BANDWIDTH[c] is not None]\n",
    "\n",
    "print(\"El promedio para el ancho de banda es: \" + str(np.mean(HIST_BANDWIDTH)))\n",
    "print(\"La desviación estándar para el ancho de banda es: \" + str(np.std(HIST_BANDWIDTH)))"
   ]
  },
  {
   "cell_type": "code",
   "execution_count": null,
   "metadata": {},
   "outputs": [],
   "source": [
    "HIST_RESIDUALS = []\n",
    "\n",
    "for c in DATA:\n",
    "    residual = POLY_RESIDUALS[c]\n",
    "    HIST_RESIDUALS.append(residual)\n",
    "\n",
    "print(\"El promedio para los residuos es: \" + str(np.mean(HIST_RESIDUALS)))\n",
    "print(\"La desviación estándar para los residuos es: \" + str(np.std(HIST_RESIDUALS)))\n",
    "print()\n",
    "print(\"El peor ajuste fue para la célula: \" + max(POLY_RESIDUALS, key=POLY_RESIDUALS.get) \n",
    "      + \", y la suma de sus errores cuadráticos fue: \" + str(POLY_RESIDUALS[max(POLY_RESIDUALS, key=POLY_RESIDUALS.get)]))\n",
    "print(\"El mejor ajuste fue para la célula: \" + min(POLY_RESIDUALS, key=POLY_RESIDUALS.get)\n",
    "      + \", y la suma de sus errores cuadráticos fue: \" + str(POLY_RESIDUALS[min(POLY_RESIDUALS, key=POLY_RESIDUALS.get)]))"
   ]
  },
  {
   "cell_type": "code",
   "execution_count": null,
   "metadata": {},
   "outputs": [],
   "source": [
    "plot_hist(title=\"Histogram for 'x' values in HWHH points\", X=POLY_X_HWHH)\n",
    "plt.show()"
   ]
  },
  {
   "cell_type": "code",
   "execution_count": null,
   "metadata": {},
   "outputs": [],
   "source": [
    "plot_hist(title=\"Histogram for 'y' values in HWHH points\", X=POLY_Y_HWHH)\n",
    "plt.show()"
   ]
  },
  {
   "cell_type": "code",
   "execution_count": null,
   "metadata": {},
   "outputs": [],
   "source": [
    "plot_hist(title=\"Histogram for 'bandwidth' values\", X=HIST_BANDWIDTH)\n",
    "plt.show()"
   ]
  },
  {
   "cell_type": "code",
   "execution_count": null,
   "metadata": {},
   "outputs": [],
   "source": [
    "plot_hist2d(\n",
    "    title=\"2D Histogram of x & y in HWHH points\",\n",
    "    X=POLY_X_HWHH,\n",
    "    Y=POLY_Y_HWHH,\n",
    "    xlab=\"x hwhh\",\n",
    "    ylab=\"y hwhh\",\n",
    "    bins=30,\n",
    ")\n",
    "plt.show()"
   ]
  },
  {
   "cell_type": "code",
   "execution_count": null,
   "metadata": {},
   "outputs": [],
   "source": [
    "plot_hist(title=\"Histogram of Function Residuals\", X=HIST_RESIDUALS)\n",
    "plt.show()"
   ]
  },
  {
   "cell_type": "markdown",
   "metadata": {},
   "source": [
    "___"
   ]
  }
 ],
 "metadata": {
  "kernelspec": {
   "display_name": "Python 3",
   "language": "python",
   "name": "python3"
  },
  "language_info": {
   "codemirror_mode": {
    "name": "ipython",
    "version": 3
   },
   "file_extension": ".py",
   "mimetype": "text/x-python",
   "name": "python",
   "nbconvert_exporter": "python",
   "pygments_lexer": "ipython3",
   "version": "3.10.13"
  }
 },
 "nbformat": 4,
 "nbformat_minor": 2
}
