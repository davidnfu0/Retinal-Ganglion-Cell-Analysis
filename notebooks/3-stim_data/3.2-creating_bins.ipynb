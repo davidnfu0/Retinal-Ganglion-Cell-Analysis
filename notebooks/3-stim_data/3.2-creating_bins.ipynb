{
 "cells": [
  {
   "cell_type": "markdown",
   "metadata": {},
   "source": [
    "# Creating bins: Ganglion Cells in the Retina\n",
    "- **Author:** David Felipe\n",
    "- **Contact:** https://github.com/davidnfu0\n",
    "- **Last Modification:** January 25, 2024\n",
    "- **Description:** In this file, the spikes will be separated into bins, with the aim of facilitating subsequent analysis."
   ]
  },
  {
   "cell_type": "markdown",
   "metadata": {},
   "source": [
    "## Introduction"
   ]
  },
  {
   "cell_type": "markdown",
   "metadata": {},
   "source": [
    "### Importing libraries"
   ]
  },
  {
   "cell_type": "code",
   "execution_count": 1,
   "metadata": {},
   "outputs": [],
   "source": [
    "import sys\n",
    "import pickle\n",
    "import numpy as np\n",
    "import pandas as pd\n",
    "from pyret import spiketools as spkt"
   ]
  },
  {
   "cell_type": "code",
   "execution_count": 2,
   "metadata": {},
   "outputs": [],
   "source": [
    "sys.path.append('../../')"
   ]
  },
  {
   "cell_type": "code",
   "execution_count": 3,
   "metadata": {},
   "outputs": [],
   "source": [
    "from scripts import load_yaml_config"
   ]
  },
  {
   "cell_type": "markdown",
   "metadata": {},
   "source": [
    "### Paths, constants and configuration"
   ]
  },
  {
   "cell_type": "code",
   "execution_count": 4,
   "metadata": {},
   "outputs": [],
   "source": [
    "configPath = \"../../config/\"\n",
    "config = load_yaml_config(configPath + \"general_config.yml\")\n",
    "\n",
    "NEW_EVENT_LIST_PATH = \"../../\" + config[\"paths\"][\"data\"][\"new_event_list\"]\n",
    "STIM_DICT_PATH = \"../../\" + config[\"paths\"][\"data_cache\"][\"STIM_DICT\"]"
   ]
  },
  {
   "cell_type": "markdown",
   "metadata": {},
   "source": [
    "### Loading data"
   ]
  },
  {
   "cell_type": "code",
   "execution_count": 5,
   "metadata": {},
   "outputs": [],
   "source": [
    "NEW_EVENT_LIST = pd.read_csv(NEW_EVENT_LIST_PATH)\n",
    "\n",
    "with open(STIM_DICT_PATH, \"rb\") as file:\n",
    "    STIM_DICT = pickle.load(file)"
   ]
  },
  {
   "cell_type": "markdown",
   "metadata": {},
   "source": [
    "## Creating bins"
   ]
  },
  {
   "cell_type": "code",
   "execution_count": 6,
   "metadata": {},
   "outputs": [],
   "source": [
    "binsStimDict = {}\n",
    "PROTOCOLS_DESCRIPTION = list(STIM_DICT[list(STIM_DICT.keys())[0]].keys())\n",
    "for protocolDescription in PROTOCOLS_DESCRIPTION:\n",
    "    protocol, description = protocolDescription.split(\".\")\n",
    "    switcher = {\n",
    "        \"chirp\": 40,\n",
    "        \"scotopic\": 1,\n",
    "        \"natural_images\": 1000,\n",
    "        \"ensembles\": 1000,\n",
    "        \"checkerboard\": 1000,\n",
    "        \"photopic\": 1,\n",
    "    }\n",
    "    binsStimDict[protocolDescription] = switcher.get(protocol, 1000)\n",
    "binsStimDict[\"chirp.ON\"] = 60\n",
    "binsStimDict[\"chirp.OFF\"] = 60\n",
    "binsStimDict[\"chirp.FREQ\"] = 300\n",
    "binsStimDict[\"chirp.AMP\"] = 160"
   ]
  },
  {
   "cell_type": "code",
   "execution_count": null,
   "metadata": {},
   "outputs": [],
   "source": [
    "rasterStimDict = {}\n",
    "for temp, events in STIM_DICT.items():\n",
    "    rasterStimDict[temp] = {}\n",
    "    for protocolDescription, repetitions in events.items():\n",
    "        protocol, description = protocolDescription.split(\".\")\n",
    "        rasterStimDict[temp][protocolDescription] = {}\n",
    "        for repetition, spikes in repetitions.items():\n",
    "            if len(spikes) == 0:\n",
    "                rasterStimDict[temp][protocolDescription][repetition] = np.array([0])\n",
    "                continue\n",
    "            elif binsStimDict[protocolDescription] == 1:\n",
    "                rasterStimDict[temp][protocolDescription][repetition] = np.array([len(spikes)])\n",
    "                continue\n",
    "            filtered_events = NEW_EVENT_LIST.loc[\n",
    "                                                    (NEW_EVENT_LIST[\"protocol_name\"] == protocol) &\n",
    "                                                    (NEW_EVENT_LIST[\"extra_description\"] == description) &\n",
    "                                                    (NEW_EVENT_LIST[\"repetition_name\"] == repetition)\n",
    "                                                ]\n",
    "            star_time = filtered_events[\"start_event\"]\n",
    "            end_time = filtered_events[\"end_event\"]\n",
    "            time = np.linspace(0, end_time - star_time, binsStimDict[protocolDescription])\n",
    "            rasterStimDict[temp][protocolDescription][repetition] = spkt.binspikes(spikes, time)"
   ]
  },
  {
   "cell_type": "markdown",
   "metadata": {},
   "source": [
    "## Export data"
   ]
  },
  {
   "cell_type": "code",
   "execution_count": 9,
   "metadata": {},
   "outputs": [],
   "source": [
    "with open(\"../../\" + config[\"paths\"][\"data_cache\"][\"BINS_STIM_DICT\"], 'wb') as output: \n",
    "    pickle.dump(rasterStimDict, output)"
   ]
  },
  {
   "cell_type": "markdown",
   "metadata": {},
   "source": [
    "____"
   ]
  }
 ],
 "metadata": {
  "kernelspec": {
   "display_name": "ganglion",
   "language": "python",
   "name": "python3"
  },
  "language_info": {
   "codemirror_mode": {
    "name": "ipython",
    "version": 3
   },
   "file_extension": ".py",
   "mimetype": "text/x-python",
   "name": "python",
   "nbconvert_exporter": "python",
   "pygments_lexer": "ipython3",
   "version": "3.10.13"
  }
 },
 "nbformat": 4,
 "nbformat_minor": 2
}
