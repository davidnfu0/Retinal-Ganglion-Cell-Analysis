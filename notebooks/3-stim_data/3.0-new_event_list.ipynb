{
 "cells": [
  {
   "cell_type": "markdown",
   "metadata": {},
   "source": [
    "# New event list: Ganglion Cells in the Retina\n",
    "- **Author:** David Felipe\n",
    "- **Contact:** https://github.com/davidnfu0\n",
    "- **Last Modification:** January 25, 2024\n",
    "- **Description:** In this document, a new list of events will be created by merging two lists of events.\n",
    "- **Note:** It may not be necessary to do this in all cases. Maybe in your case, it will be necessary to modify the names of the columns."
   ]
  },
  {
   "cell_type": "markdown",
   "metadata": {},
   "source": [
    "## Introduction"
   ]
  },
  {
   "cell_type": "markdown",
   "metadata": {},
   "source": [
    "### Importing libraries"
   ]
  },
  {
   "cell_type": "code",
   "execution_count": 1,
   "metadata": {},
   "outputs": [],
   "source": [
    "import sys\n",
    "import pandas as pd"
   ]
  },
  {
   "cell_type": "code",
   "execution_count": 2,
   "metadata": {},
   "outputs": [],
   "source": [
    "sys.path.append(\"../../\")"
   ]
  },
  {
   "cell_type": "code",
   "execution_count": 3,
   "metadata": {},
   "outputs": [],
   "source": [
    "from scripts import load_yaml_config"
   ]
  },
  {
   "cell_type": "markdown",
   "metadata": {},
   "source": [
    "### Paths, constants and configuration"
   ]
  },
  {
   "cell_type": "code",
   "execution_count": 4,
   "metadata": {},
   "outputs": [],
   "source": [
    "configPath = \"../../config/\"\n",
    "config = load_yaml_config(configPath + \"general_config.yml\")\n",
    "\n",
    "EVENT_LIST_PATH = \"../../\" + config[\"paths\"][\"data\"][\"event_list\"]\n",
    "CHIRP_EVENT_LIST_PATH = \"../../\" + config[\"paths\"][\"data\"][\"chirp_event_list\"]"
   ]
  },
  {
   "cell_type": "markdown",
   "metadata": {},
   "source": [
    "### Loading data"
   ]
  },
  {
   "cell_type": "code",
   "execution_count": 5,
   "metadata": {},
   "outputs": [],
   "source": [
    "# Loading event list data frames\n",
    "eventList = pd.read_csv(EVENT_LIST_PATH).drop(44)[\n",
    "    [\n",
    "        \"n_frames\",\n",
    "        \"start_event\",\n",
    "        \"end_event\",\n",
    "        \"protocol_name\",\n",
    "        \"extra_description\",\n",
    "        \"repetition_name\",\n",
    "    ]\n",
    "]\n",
    "eventList.fillna({\"extra_description\": \"\"}, inplace=True)\n",
    "chirpEventList = pd.read_csv(CHIRP_EVENT_LIST_PATH, sep=\";\")[\n",
    "    [\n",
    "        \"n_frames\",\n",
    "        \"start_event\",\n",
    "        \"end_event\",\n",
    "        \"protocol_name\",\n",
    "        \"extra_description\",\n",
    "        \"rep_name\",\n",
    "    ]\n",
    "]\n",
    "chirpEventList.rename(columns={\"rep_name\": \"repetition_name\"}, inplace=True)\n",
    "extraDescription = list(eventList[\"extra_description\"])\n",
    "naturalImagesIndex = list(\n",
    "    eventList[eventList[\"protocol_name\"] == \"natural_images\"].index\n",
    ")\n",
    "for i, index in enumerate(naturalImagesIndex):\n",
    "    extraDescription[index] = \"n\" + str(i + 1)\n",
    "eventList[\"extra_description\"] = extraDescription"
   ]
  },
  {
   "cell_type": "markdown",
   "metadata": {},
   "source": [
    "## Creating the new list of events"
   ]
  },
  {
   "cell_type": "code",
   "execution_count": 6,
   "metadata": {},
   "outputs": [],
   "source": [
    "chirpSubevents = []\n",
    "[\n",
    "    chirpSubevents.append(subevent)\n",
    "    for subevent in list(chirpEventList[\"extra_description\"].dropna())\n",
    "    if subevent not in chirpSubevents\n",
    "]\n",
    "subeventLenghts = {}\n",
    "\n",
    "for subevent in chirpSubevents:\n",
    "    startSubevent = chirpEventList[chirpEventList[\"extra_description\"] == subevent][\n",
    "        \"start_event\"\n",
    "    ].values[0]\n",
    "    endSubevent = chirpEventList[chirpEventList[\"extra_description\"] == subevent][\n",
    "        \"end_event\"\n",
    "    ].values[0]\n",
    "    subeventLenghts[subevent] = endSubevent - startSubevent"
   ]
  },
  {
   "cell_type": "code",
   "execution_count": 7,
   "metadata": {},
   "outputs": [],
   "source": [
    "chirpEvents = eventList[eventList[\"protocol_name\"] == \"chirp\"]\n",
    "eventList.drop(chirpEvents.index, inplace=True)\n",
    "eventListFirst = eventList[eventList.index < 2]\n",
    "eventListLast = eventList[eventList.index > 2]"
   ]
  },
  {
   "cell_type": "code",
   "execution_count": 8,
   "metadata": {},
   "outputs": [],
   "source": [
    "newSubevents = {}\n",
    "CHIRP_REPETITION = list(chirpEvents[\"repetition_name\"])\n",
    "CHIRP_SUBEVENTS_REPETITION = list(chirpEventList[\"repetition_name\"])\n",
    "repetitionDifference = []\n",
    "[\n",
    "    repetitionDifference.append(item)\n",
    "    for item in CHIRP_REPETITION\n",
    "    if item not in CHIRP_SUBEVENTS_REPETITION and item not in repetitionDifference\n",
    "]\n",
    "for repetition in repetitionDifference:\n",
    "    chirp_start = chirpEvents[chirpEvents[\"repetition_name\"] == repetition][\n",
    "        \"start_event\"\n",
    "    ].values[0]\n",
    "    chirp_end = chirpEvents[chirpEvents[\"repetition_name\"] == repetition][\n",
    "        \"end_event\"\n",
    "    ].values[0]\n",
    "    lengthCount = 0\n",
    "    for subevent, length in subeventLenghts.items():\n",
    "        key = repetition + \"_\" + subevent\n",
    "        newSubevents[key] = {}\n",
    "        newSubevents[key][\"n_frames\"] = chirpEventList[\n",
    "            chirpEventList[\"extra_description\"] == subevent\n",
    "        ][\"n_frames\"].values[0]\n",
    "        newSubevents[key][\"start_event\"] = chirp_start + lengthCount\n",
    "        newSubevents[key][\"end_event\"] = (\n",
    "            chirp_start + lengthCount + length if subevent != \"adap_2\" else chirp_end\n",
    "        )\n",
    "        newSubevents[key][\"protocol_name\"] = \"chirp\"\n",
    "        newSubevents[key][\"extra_description\"] = subevent\n",
    "        newSubevents[key][\"repetition_name\"] = repetition\n",
    "        lengthCount += length\n",
    "newSubevents = pd.DataFrame.from_dict(newSubevents, orient=\"index\")\n",
    "newSubevents.reset_index(inplace=True)\n",
    "newSubevents.drop(\"index\", axis=1, inplace=True)\n",
    "newSubevents = pd.concat([chirpEventList, newSubevents], ignore_index=True)\n",
    "NEW_EVENT_LIST = pd.concat(\n",
    "    [eventListFirst, newSubevents, eventListLast], ignore_index=True\n",
    ").reset_index(drop=True)"
   ]
  },
  {
   "cell_type": "code",
   "execution_count": 9,
   "metadata": {},
   "outputs": [],
   "source": [
    "PROTOCOLS_DESCRIPTION = []\n",
    "for protocol, description, startTime, endTime, repetition in zip(\n",
    "    NEW_EVENT_LIST[\"protocol_name\"],\n",
    "    NEW_EVENT_LIST[\"extra_description\"],\n",
    "    NEW_EVENT_LIST[\"start_event\"],\n",
    "    NEW_EVENT_LIST[\"end_event\"],\n",
    "    NEW_EVENT_LIST[\"repetition_name\"],\n",
    "):\n",
    "    key = protocol + \".\" + description\n",
    "    if key not in PROTOCOLS_DESCRIPTION:\n",
    "        PROTOCOLS_DESCRIPTION.append(protocol + \".\" + description)"
   ]
  },
  {
   "cell_type": "markdown",
   "metadata": {},
   "source": [
    "## Export the data"
   ]
  },
  {
   "cell_type": "code",
   "execution_count": 10,
   "metadata": {},
   "outputs": [],
   "source": [
    "NEW_EVENT_LIST.to_csv(\"../../\" + config[\"paths\"][\"data\"][\"new_event_list\"], index=False)"
   ]
  },
  {
   "cell_type": "markdown",
   "metadata": {},
   "source": [
    "___"
   ]
  }
 ],
 "metadata": {
  "kernelspec": {
   "display_name": "ganglion",
   "language": "python",
   "name": "python3"
  },
  "language_info": {
   "codemirror_mode": {
    "name": "ipython",
    "version": 3
   },
   "file_extension": ".py",
   "mimetype": "text/x-python",
   "name": "python",
   "nbconvert_exporter": "python",
   "pygments_lexer": "ipython3",
   "version": "3.10.13"
  }
 },
 "nbformat": 4,
 "nbformat_minor": 2
}
