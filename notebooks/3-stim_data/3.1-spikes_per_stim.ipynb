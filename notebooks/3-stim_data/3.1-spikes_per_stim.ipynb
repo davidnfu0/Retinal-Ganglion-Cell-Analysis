{
 "cells": [
  {
   "cell_type": "markdown",
   "metadata": {},
   "source": [
    "# Spikes per stim: Ganglion Cells in the Retina\n",
    "- **Author:** David Felipe\n",
    "- **Contact:** https://github.com/davidnfu0\n",
    "- **Last Modification:** January 25, 2024\n",
    "- **Description:** In this file, the spikes of each template will be grouped into the corresponding stimulus.\n",
    "- **Note:** This notebook will take a considerable amount of time to execute, as the procedure is computationally complex."
   ]
  },
  {
   "cell_type": "markdown",
   "metadata": {},
   "source": [
    "## Introduction"
   ]
  },
  {
   "cell_type": "markdown",
   "metadata": {},
   "source": [
    "### Importing libraries"
   ]
  },
  {
   "cell_type": "code",
   "execution_count": 1,
   "metadata": {},
   "outputs": [],
   "source": [
    "import sys\n",
    "import pickle\n",
    "import h5py\n",
    "import numpy as np\n",
    "import pandas as pd\n",
    "from collections import deque"
   ]
  },
  {
   "cell_type": "code",
   "execution_count": 2,
   "metadata": {},
   "outputs": [],
   "source": [
    "sys.path.append('../../')"
   ]
  },
  {
   "cell_type": "code",
   "execution_count": 3,
   "metadata": {},
   "outputs": [],
   "source": [
    "from scripts import load_yaml_config"
   ]
  },
  {
   "cell_type": "markdown",
   "metadata": {},
   "source": [
    "### Paths, constants and configuration"
   ]
  },
  {
   "cell_type": "code",
   "execution_count": 4,
   "metadata": {},
   "outputs": [],
   "source": [
    "configPath = \"../../config/\"\n",
    "config = load_yaml_config(configPath + \"general_config.yml\")\n",
    "\n",
    "NEW_EVENT_LIST_PATH = \"../..\" + config[\"paths\"][\"data\"][\"new_event_list\"]\n",
    "SPIKE_TIMES_PATH = \"../..\" + config[\"paths\"][\"data\"][\"result_merged\"]"
   ]
  },
  {
   "cell_type": "markdown",
   "metadata": {},
   "source": [
    "### Loading data"
   ]
  },
  {
   "cell_type": "code",
   "execution_count": 5,
   "metadata": {},
   "outputs": [],
   "source": [
    "NEW_EVENT_LIST = pd.read_csv(NEW_EVENT_LIST_PATH)\n",
    "\n",
    "units = h5py.File(SPIKE_TIMES_PATH, 'r')\n",
    "spt_units = units[\"spiketimes\"]\n",
    "SPIKE_TIMES = {}\n",
    "for elem in spt_units.keys():\n",
    "    SPIKE_TIMES[elem] = np.array(spt_units[elem])\n",
    "units.close()"
   ]
  },
  {
   "cell_type": "code",
   "execution_count": 6,
   "metadata": {},
   "outputs": [],
   "source": [
    "toDel = []\n",
    "for temp, spikes in SPIKE_TIMES.items():\n",
    "    if len(spikes) <= 1000:\n",
    "        toDel.append(temp)\n",
    "for temp in toDel:\n",
    "    del SPIKE_TIMES[temp]\n",
    "TEMPS = list(SPIKE_TIMES.keys())"
   ]
  },
  {
   "cell_type": "markdown",
   "metadata": {},
   "source": [
    "## Adding the data"
   ]
  },
  {
   "cell_type": "code",
   "execution_count": 7,
   "metadata": {},
   "outputs": [],
   "source": [
    "stimDict = {}\n",
    "\n",
    "protocol_descriptions = [f\"{p}.{d}\" for p, d in zip(NEW_EVENT_LIST[\"protocol_name\"], NEW_EVENT_LIST[\"extra_description\"])]\n",
    "\n",
    "for temp in TEMPS:\n",
    "    stimDict[temp] = {}\n",
    "    for pro in protocol_descriptions:\n",
    "        stimDict[temp][pro] = {}\n",
    "    for pro, rep in zip(protocol_descriptions, NEW_EVENT_LIST[\"repetition_name\"]):\n",
    "        stimDict[temp][pro][rep] = deque()\n",
    "\n",
    "for temp, spikes in zip(TEMPS, SPIKE_TIMES.values()):\n",
    "    for startTime, endTime, protocol, rep, description in zip(NEW_EVENT_LIST[\"start_event\"], NEW_EVENT_LIST[\"end_event\"], NEW_EVENT_LIST[\"protocol_name\"], NEW_EVENT_LIST[\"repetition_name\"], NEW_EVENT_LIST[\"extra_description\"]):\n",
    "        protocolDescription = f\"{protocol}.{description}\"\n",
    "        for spike in spikes:\n",
    "            if startTime <= spike <= endTime:\n",
    "                stimDict[temp][protocolDescription][rep].append(spike - startTime)"
   ]
  },
  {
   "cell_type": "markdown",
   "metadata": {},
   "source": [
    "## Export data"
   ]
  },
  {
   "cell_type": "code",
   "execution_count": 8,
   "metadata": {},
   "outputs": [],
   "source": [
    "with open(\"../../\" + config[\"paths\"][\"data_cache\"][\"STIM_DICT\"], 'wb') as output: \n",
    "    pickle.dump(stimDict, output)"
   ]
  },
  {
   "cell_type": "markdown",
   "metadata": {},
   "source": [
    "___"
   ]
  }
 ],
 "metadata": {
  "kernelspec": {
   "display_name": "ganglion",
   "language": "python",
   "name": "python3"
  },
  "language_info": {
   "codemirror_mode": {
    "name": "ipython",
    "version": 3
   },
   "file_extension": ".py",
   "mimetype": "text/x-python",
   "name": "python",
   "nbconvert_exporter": "python",
   "pygments_lexer": "ipython3",
   "version": "3.10.13"
  }
 },
 "nbformat": 4,
 "nbformat_minor": 2
}
